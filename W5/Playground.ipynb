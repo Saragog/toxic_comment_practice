{
 "cells": [
  {
   "cell_type": "code",
   "execution_count": 2,
   "metadata": {},
   "outputs": [],
   "source": [
    "import pandas as pd\n",
    "import numpy as np \n",
    "\n",
    "data_dir = \"./dataMini/\"\n",
    "\n",
    "train = pd.read_csv(data_dir + '/train.csv')  \n",
    "test = pd.read_csv(data_dir + '/test.csv')\n",
    "test_labels = pd.read_csv(data_dir + '/test_labels.csv')"
   ]
  },
  {
   "cell_type": "code",
   "execution_count": 7,
   "metadata": {},
   "outputs": [
    {
     "name": "stdout",
     "output_type": "stream",
     "text": [
      "(159571, 8)\n",
      "(153164, 2)\n",
      "(153164, 7)\n"
     ]
    }
   ],
   "source": [
    "print(train.shape)\n",
    "print (test.shape)\n",
    "print(test_labels.shape)"
   ]
  },
  {
   "cell_type": "code",
   "execution_count": 11,
   "metadata": {},
   "outputs": [
    {
     "name": "stdout",
     "output_type": "stream",
     "text": [
      "(1000, 8)\n",
      "(1000, 2)\n",
      "(1000, 7)\n"
     ]
    }
   ],
   "source": [
    "mini_train = train[:1000]\n",
    "mini_test = test[:1000]\n",
    "mini_test_labels = test_labels[:1000]\n",
    "print(mini_train.shape)\n",
    "print (mini_test.shape)\n",
    "print(mini_test_labels.shape)"
   ]
  },
  {
   "cell_type": "code",
   "execution_count": 13,
   "metadata": {},
   "outputs": [],
   "source": [
    "mini_train.to_csv(data_dir + '/mini_train.csv',index = True, header=True)\n",
    "mini_test.to_csv(data_dir +'/mini_test.csv',index = True, header=True)\n",
    "mini_test_labels.to_csv(data_dir +'/mini_labels.csv',index = True, header=True)"
   ]
  }
 ],
 "metadata": {
  "kernelspec": {
   "display_name": "Python 3",
   "language": "python",
   "name": "python3"
  },
  "language_info": {
   "codemirror_mode": {
    "name": "ipython",
    "version": 3
   },
   "file_extension": ".py",
   "mimetype": "text/x-python",
   "name": "python",
   "nbconvert_exporter": "python",
   "pygments_lexer": "ipython3",
   "version": "3.7.9"
  }
 },
 "nbformat": 4,
 "nbformat_minor": 4
}
